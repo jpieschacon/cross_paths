{
 "cells": [
  {
   "cell_type": "code",
   "id": "initial_id",
   "metadata": {
    "collapsed": true,
    "ExecuteTime": {
     "end_time": "2024-09-11T15:06:28.845770Z",
     "start_time": "2024-09-11T15:06:27.853671Z"
    }
   },
   "source": [
    "import pandas as pd\n",
    "from pandas import DataFrame, Timestamp\n",
    "from datetime import datetime as dt"
   ],
   "outputs": [],
   "execution_count": 1
  },
  {
   "metadata": {
    "ExecuteTime": {
     "end_time": "2024-09-11T15:06:28.860936Z",
     "start_time": "2024-09-11T15:06:28.853775Z"
    }
   },
   "cell_type": "code",
   "source": [
    "def extract_maps_data(person: str) -> DataFrame:\n",
    "    path = f'takeout-{person}/Takeout/Location History (Timeline)/Records.json'\n",
    "    return pd.read_json(path)"
   ],
   "id": "2e12324a96034fc3",
   "outputs": [],
   "execution_count": 2
  },
  {
   "metadata": {
    "ExecuteTime": {
     "end_time": "2024-09-11T15:06:28.983336Z",
     "start_time": "2024-09-11T15:06:28.976257Z"
    }
   },
   "cell_type": "code",
   "source": [
    "def transform_maps_data(df: DataFrame, person: str) -> DataFrame:\n",
    "    df['person'] = person\n",
    "    df['lat'] = df['locations'].map(lambda x: x['latitudeE7'])\n",
    "    df['lon'] = df['locations'].map(lambda x: x['longitudeE7'])\n",
    "    df['timestamp'] = df['locations'].map(lambda x: x['timestamp'])\n",
    "    df['accuracy'] = df['locations'].map(lambda x: x['accuracy'])\n",
    "    df['source'] = df['locations'].map(lambda x: x['source'])\n",
    "    # convert lat/lon to decimalized degrees and the timestamp to date-time\n",
    "    df['lat'] = df['lat'] / 10.**7\n",
    "    df['lon'] = df['lon'] / 10.**7\n",
    "    df['timestamp'] = pd.to_datetime(df['timestamp'], format='ISO8601')\n",
    "    df = df.drop(labels=['locations'], axis=1, inplace=False)\n",
    "    # Get the locations where the accuracy was less than 20 meters of radius\n",
    "    df = df[df['accuracy'] < 20]\n",
    "    return df\n",
    "    "
   ],
   "id": "34c4ef2c4abad9f7",
   "outputs": [],
   "execution_count": 3
  },
  {
   "metadata": {
    "ExecuteTime": {
     "end_time": "2024-09-11T15:06:29.004280Z",
     "start_time": "2024-09-11T15:06:28.996528Z"
    }
   },
   "cell_type": "code",
   "source": [
    "def filter_relevant_days(df: DataFrame, start: Timestamp, end: Timestamp) -> DataFrame:\n",
    "    df = df[(df['timestamp'] >= start) & (df['timestamp'] <= end)]\n",
    "    return df"
   ],
   "id": "c7ef4fdd03a0879b",
   "outputs": [],
   "execution_count": 4
  },
  {
   "metadata": {
    "ExecuteTime": {
     "end_time": "2024-09-11T15:06:56.673954Z",
     "start_time": "2024-09-11T15:06:29.018948Z"
    }
   },
   "cell_type": "code",
   "source": [
    "person_1 = 'JGPV'\n",
    "person_2 = 'JSRV'\n",
    "maps_person_1 = extract_maps_data(person_1)\n",
    "maps_person_2 = extract_maps_data(person_2)\n"
   ],
   "id": "d4559e9b6111890f",
   "outputs": [],
   "execution_count": 5
  },
  {
   "metadata": {
    "ExecuteTime": {
     "end_time": "2024-09-11T15:07:05.983799Z",
     "start_time": "2024-09-11T15:06:56.710685Z"
    }
   },
   "cell_type": "code",
   "source": [
    "data_person_1 = transform_maps_data(maps_person_1, person_1)\n",
    "data_person_1.head()"
   ],
   "id": "1684826460c0cdc5",
   "outputs": [
    {
     "data": {
      "text/plain": [
       "     person       lat        lon                        timestamp  accuracy  \\\n",
       "8889   JGPV  4.708151 -74.071575 2013-07-08 16:59:03.101000+00:00         6   \n",
       "8890   JGPV  4.705921 -74.071111 2013-07-08 17:00:03.024000+00:00         8   \n",
       "8892   JGPV  4.695915 -74.068882 2013-07-08 17:03:03.009000+00:00         8   \n",
       "8893   JGPV  4.692902 -74.067094 2013-07-08 17:04:03.030000+00:00         6   \n",
       "8894   JGPV  4.689582 -74.065618 2013-07-08 17:06:03.027000+00:00         6   \n",
       "\n",
       "     source  \n",
       "8889    GPS  \n",
       "8890    GPS  \n",
       "8892    GPS  \n",
       "8893    GPS  \n",
       "8894    GPS  "
      ],
      "text/html": [
       "<div>\n",
       "<style scoped>\n",
       "    .dataframe tbody tr th:only-of-type {\n",
       "        vertical-align: middle;\n",
       "    }\n",
       "\n",
       "    .dataframe tbody tr th {\n",
       "        vertical-align: top;\n",
       "    }\n",
       "\n",
       "    .dataframe thead th {\n",
       "        text-align: right;\n",
       "    }\n",
       "</style>\n",
       "<table border=\"1\" class=\"dataframe\">\n",
       "  <thead>\n",
       "    <tr style=\"text-align: right;\">\n",
       "      <th></th>\n",
       "      <th>person</th>\n",
       "      <th>lat</th>\n",
       "      <th>lon</th>\n",
       "      <th>timestamp</th>\n",
       "      <th>accuracy</th>\n",
       "      <th>source</th>\n",
       "    </tr>\n",
       "  </thead>\n",
       "  <tbody>\n",
       "    <tr>\n",
       "      <th>8889</th>\n",
       "      <td>JGPV</td>\n",
       "      <td>4.708151</td>\n",
       "      <td>-74.071575</td>\n",
       "      <td>2013-07-08 16:59:03.101000+00:00</td>\n",
       "      <td>6</td>\n",
       "      <td>GPS</td>\n",
       "    </tr>\n",
       "    <tr>\n",
       "      <th>8890</th>\n",
       "      <td>JGPV</td>\n",
       "      <td>4.705921</td>\n",
       "      <td>-74.071111</td>\n",
       "      <td>2013-07-08 17:00:03.024000+00:00</td>\n",
       "      <td>8</td>\n",
       "      <td>GPS</td>\n",
       "    </tr>\n",
       "    <tr>\n",
       "      <th>8892</th>\n",
       "      <td>JGPV</td>\n",
       "      <td>4.695915</td>\n",
       "      <td>-74.068882</td>\n",
       "      <td>2013-07-08 17:03:03.009000+00:00</td>\n",
       "      <td>8</td>\n",
       "      <td>GPS</td>\n",
       "    </tr>\n",
       "    <tr>\n",
       "      <th>8893</th>\n",
       "      <td>JGPV</td>\n",
       "      <td>4.692902</td>\n",
       "      <td>-74.067094</td>\n",
       "      <td>2013-07-08 17:04:03.030000+00:00</td>\n",
       "      <td>6</td>\n",
       "      <td>GPS</td>\n",
       "    </tr>\n",
       "    <tr>\n",
       "      <th>8894</th>\n",
       "      <td>JGPV</td>\n",
       "      <td>4.689582</td>\n",
       "      <td>-74.065618</td>\n",
       "      <td>2013-07-08 17:06:03.027000+00:00</td>\n",
       "      <td>6</td>\n",
       "      <td>GPS</td>\n",
       "    </tr>\n",
       "  </tbody>\n",
       "</table>\n",
       "</div>"
      ]
     },
     "execution_count": 6,
     "metadata": {},
     "output_type": "execute_result"
    }
   ],
   "execution_count": 6
  },
  {
   "metadata": {
    "ExecuteTime": {
     "end_time": "2024-09-11T15:07:08.948907Z",
     "start_time": "2024-09-11T15:07:06.048048Z"
    }
   },
   "cell_type": "code",
   "source": [
    "data_person_2 = transform_maps_data(maps_person_2, person_2)\n",
    "data_person_2.head()"
   ],
   "id": "6681b7ee2f95133e",
   "outputs": [
    {
     "data": {
      "text/plain": [
       "     person       lat        lon                        timestamp  accuracy  \\\n",
       "1086   JSRV  4.685569 -74.076835 2014-10-12 16:17:33.897000+00:00         4   \n",
       "1087   JSRV  4.685569 -74.076835 2014-10-12 16:18:34.948000+00:00         4   \n",
       "1088   JSRV  4.685569 -74.076835 2014-10-12 16:19:35.028000+00:00         4   \n",
       "1089   JSRV  4.685569 -74.076835 2014-10-12 16:21:23.220000+00:00         4   \n",
       "1090   JSRV  4.685569 -74.076835 2014-10-12 16:22:43.968000+00:00         4   \n",
       "\n",
       "     source  \n",
       "1086   CELL  \n",
       "1087   CELL  \n",
       "1088   CELL  \n",
       "1089   CELL  \n",
       "1090   CELL  "
      ],
      "text/html": [
       "<div>\n",
       "<style scoped>\n",
       "    .dataframe tbody tr th:only-of-type {\n",
       "        vertical-align: middle;\n",
       "    }\n",
       "\n",
       "    .dataframe tbody tr th {\n",
       "        vertical-align: top;\n",
       "    }\n",
       "\n",
       "    .dataframe thead th {\n",
       "        text-align: right;\n",
       "    }\n",
       "</style>\n",
       "<table border=\"1\" class=\"dataframe\">\n",
       "  <thead>\n",
       "    <tr style=\"text-align: right;\">\n",
       "      <th></th>\n",
       "      <th>person</th>\n",
       "      <th>lat</th>\n",
       "      <th>lon</th>\n",
       "      <th>timestamp</th>\n",
       "      <th>accuracy</th>\n",
       "      <th>source</th>\n",
       "    </tr>\n",
       "  </thead>\n",
       "  <tbody>\n",
       "    <tr>\n",
       "      <th>1086</th>\n",
       "      <td>JSRV</td>\n",
       "      <td>4.685569</td>\n",
       "      <td>-74.076835</td>\n",
       "      <td>2014-10-12 16:17:33.897000+00:00</td>\n",
       "      <td>4</td>\n",
       "      <td>CELL</td>\n",
       "    </tr>\n",
       "    <tr>\n",
       "      <th>1087</th>\n",
       "      <td>JSRV</td>\n",
       "      <td>4.685569</td>\n",
       "      <td>-74.076835</td>\n",
       "      <td>2014-10-12 16:18:34.948000+00:00</td>\n",
       "      <td>4</td>\n",
       "      <td>CELL</td>\n",
       "    </tr>\n",
       "    <tr>\n",
       "      <th>1088</th>\n",
       "      <td>JSRV</td>\n",
       "      <td>4.685569</td>\n",
       "      <td>-74.076835</td>\n",
       "      <td>2014-10-12 16:19:35.028000+00:00</td>\n",
       "      <td>4</td>\n",
       "      <td>CELL</td>\n",
       "    </tr>\n",
       "    <tr>\n",
       "      <th>1089</th>\n",
       "      <td>JSRV</td>\n",
       "      <td>4.685569</td>\n",
       "      <td>-74.076835</td>\n",
       "      <td>2014-10-12 16:21:23.220000+00:00</td>\n",
       "      <td>4</td>\n",
       "      <td>CELL</td>\n",
       "    </tr>\n",
       "    <tr>\n",
       "      <th>1090</th>\n",
       "      <td>JSRV</td>\n",
       "      <td>4.685569</td>\n",
       "      <td>-74.076835</td>\n",
       "      <td>2014-10-12 16:22:43.968000+00:00</td>\n",
       "      <td>4</td>\n",
       "      <td>CELL</td>\n",
       "    </tr>\n",
       "  </tbody>\n",
       "</table>\n",
       "</div>"
      ]
     },
     "execution_count": 7,
     "metadata": {},
     "output_type": "execute_result"
    }
   ],
   "execution_count": 7
  },
  {
   "metadata": {
    "ExecuteTime": {
     "end_time": "2024-09-11T15:07:09.012692Z",
     "start_time": "2024-09-11T15:07:08.995276Z"
    }
   },
   "cell_type": "code",
   "source": [
    "# Get the oldest date for each of the dataframes to start the analysis from there\n",
    "oldest_day_person_1 = data_person_1['timestamp'].min()\n",
    "oldest_day_person_2 = data_person_2['timestamp'].min()\n",
    "start_day = oldest_day_person_1 if oldest_day_person_1 > oldest_day_person_2 else oldest_day_person_2\n",
    "end_day = pd.Timestamp(dt.strptime('10/01/19', '%m/%d/%y')).tz_localize('UTC')"
   ],
   "id": "6ec768a8dcf76a0b",
   "outputs": [],
   "execution_count": 8
  },
  {
   "metadata": {
    "ExecuteTime": {
     "end_time": "2024-09-11T15:07:09.160345Z",
     "start_time": "2024-09-11T15:07:09.132739Z"
    }
   },
   "cell_type": "code",
   "source": [
    "data_person_1 = filter_relevant_days(data_person_1, start_day, end_day)\n",
    "data_person_2 = filter_relevant_days(data_person_2, start_day, end_day)"
   ],
   "id": "9574fb41e6358781",
   "outputs": [],
   "execution_count": 9
  },
  {
   "metadata": {
    "ExecuteTime": {
     "end_time": "2024-09-11T15:07:09.223048Z",
     "start_time": "2024-09-11T15:07:09.217170Z"
    }
   },
   "cell_type": "code",
   "source": "",
   "id": "1927f849351006a0",
   "outputs": [],
   "execution_count": null
  }
 ],
 "metadata": {
  "kernelspec": {
   "display_name": "Python 3",
   "language": "python",
   "name": "python3"
  },
  "language_info": {
   "codemirror_mode": {
    "name": "ipython",
    "version": 2
   },
   "file_extension": ".py",
   "mimetype": "text/x-python",
   "name": "python",
   "nbconvert_exporter": "python",
   "pygments_lexer": "ipython2",
   "version": "2.7.6"
  }
 },
 "nbformat": 4,
 "nbformat_minor": 5
}
